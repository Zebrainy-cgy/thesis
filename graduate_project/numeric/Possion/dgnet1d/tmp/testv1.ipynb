{
 "cells": [
  {
   "cell_type": "code",
   "execution_count": 1,
   "metadata": {},
   "outputs": [
    {
     "name": "stdout",
     "output_type": "stream",
     "text": [
      "tensor([0.0000, 0.1000, 0.2000, 0.3000, 0.4000, 0.5000, 0.6000, 0.7000, 0.8000,\n",
      "        0.9000, 1.0000]) torch.float32\n"
     ]
    }
   ],
   "source": [
    "import torch\n",
    "import torch.nn as nn\n",
    "from torch import tensor as Tensor\n",
    "import matplotlib.pyplot as plt\n",
    "from math import exp\n",
    "import numpy as np\n",
    "\n",
    "N = 10\n",
    "Nint = 50\n",
    "h = 1.0 / N\n",
    "eps = -1.0\n",
    "deg = 2\n",
    "sigma = 10.0 * deg * deg\n",
    "X = torch.linspace(0, 1, N+1)\n",
    "print(X, X.dtype)\n",
    "\n",
    "def testfunc(x, i, n):\n",
    "    ''' ith test function of cell n'''\n",
    "    x_mid = (X[n] + X[n+1]) / 2.0\n",
    "    return 2**i * (x - x_mid)**i / (X[n+1] - X[n])** i\n",
    "\n",
    "def grad_testfunc(x, i, n):\n",
    "    ''' gradience of ith test function of cell n'''\n",
    "    if i == 0:\n",
    "        return 0\n",
    "    else:\n",
    "        x_mid = (X[n] + X[n+1]) / 2.0\n",
    "        return 2**i * i * (x - x_mid)**(i-1) / (X[n+1] - X[n])** i\n",
    "\n",
    "\n",
    "def source(x):\n",
    "    return (4*x**3 - 4*x**2-6*x + 2) * exp(-x**2)\n",
    "\n",
    "def exact(x):\n",
    "    return (1-x)*torch.exp(-x**2)\n",
    "\n",
    "###################################################### Particle test function ##########################################################\n",
    "def particletest(r):\n",
    "    '''particle test function in the nth cell, the refenece coordinate is x'''\n",
    "    if r <= 1+1e-6 and r>-1e-6:\n",
    "        return (1-r)**5 * (8*r**2+5*r+1)\n",
    "    else:\n",
    "        print(\"r>1, somthing went wrong!\")\n",
    "\n",
    "\n",
    "def grad_particletest(r):\n",
    "    if r <= 1+1e-6 and r>-1e-6:\n",
    "        return -14*r*(4*r+1)*(1-r)**4\n",
    "    else:\n",
    "        print(\"r>1, somthing went wrong!\")"
   ]
  },
  {
   "cell_type": "code",
   "execution_count": 2,
   "metadata": {},
   "outputs": [],
   "source": [
    "# class u(nn.Module):\n",
    "#     def __init__(self, *args, **kwargs) -> None:\n",
    "#         super().__init__(*args, **kwargs)\n",
    "#         self.layer1 = nn.Linear(1, 10)\n",
    "#         self.layer2 = nn.Linear(10, 10)\n",
    "#         self.layer3 = nn.Linear(10, 1)\n",
    "#     def forward(self, x):\n",
    "#         o1 = torch.relu(self.layer1(x))\n",
    "#         o2 = torch.relu(self.layer2(o1))\n",
    "#         op = torch.relu(self.layer3(o2))\n",
    "#         return op\n",
    "\n",
    "class u(nn.Module):\n",
    "    def __init__(self, *args, **kwargs) -> None:\n",
    "        super().__init__(*args, **kwargs)\n",
    "        self.layer1 = nn.Linear(2, 10)\n",
    "        self.layer2 = nn.Linear(10, 1)\n",
    "    def forward(self, x):\n",
    "        x = x[0:1]\n",
    "        input = torch.cat([x, x**2])\n",
    "        o1 = self.layer1(input)\n",
    "        op = self.layer2(o1)\n",
    "        return op\n",
    "\n",
    "bflist = []\n",
    "for _ in range(N):\n",
    "    bf = u()\n",
    "    bflist.append(bf)\n",
    "\n",
    "\n",
    "def ref2phi(s, n):\n",
    "    ''' s is the position of one dim'''\n",
    "    return (s + 1) / 2.0 * (X[n+1] - X[n]) + X[n]\n",
    "\n",
    "def phi2ref(x, n):\n",
    "    xm = (X[n] + X[n+1])/2.0\n",
    "    return abs(x - xm)/(- X[n] + X[n+1])*2.0 \n"
   ]
  },
  {
   "cell_type": "markdown",
   "metadata": {},
   "source": [
    "### compute the first term in equation loss:\n",
    "\n",
    "$$\\int_{x_n}^{x_{n+1}} \\nabla_x u \\cdot \\nabla_x v$$\n",
    "\n",
    "And the right hand side:\n",
    "\n",
    "$$\\int_{x_n}^{x_{n+1}} fv$$"
   ]
  },
  {
   "cell_type": "code",
   "execution_count": 3,
   "metadata": {},
   "outputs": [
    {
     "name": "stdout",
     "output_type": "stream",
     "text": [
      "(tensor([-0.3065], grad_fn=<AddBackward0>), tensor([-0.0104], grad_fn=<AddBackward0>))\n"
     ]
    }
   ],
   "source": [
    "def computeAB(bflist, n, notf):\n",
    "    s = [-0.86113631, -0.33998104, 0.33998104, 0.86113631]\n",
    "    w = Tensor([0.17392742, 0.32607257, 0.32607257, 0.17392742])\n",
    "    ng = w.shape[0]\n",
    "    A = Tensor([0.0])\n",
    "    B = Tensor([0.0])\n",
    "\n",
    "    for k in range(ng):\n",
    "        realcor = ref2phi(s[k], n)\n",
    "        bf = bflist[n]\n",
    "        p = Tensor([realcor], requires_grad=True)\n",
    "        up = bf(p)\n",
    "        gup = torch.autograd.grad(up, p, create_graph=True, retain_graph=True)[0]\n",
    "\n",
    "        v = testfunc(p, notf, n)\n",
    "        gv = grad_testfunc(p, notf, n)\n",
    "\n",
    "        f = source(p)\n",
    "        A += w[k] * (X[n+1] - X[n]) * gup * gv\n",
    "        B += w[k] * (X[n+1] - X[n]) * f * v\n",
    "    return A, B\n",
    "\n",
    "print(computeAB(bflist, 3, 1))"
   ]
  },
  {
   "cell_type": "markdown",
   "metadata": {},
   "source": [
    "### compute the second term in equation loss:\n",
    "\n",
    "$$\\sum_{n=0}^N\\{\\nabla_x u(x_n)\\}[v(x_n)]$$"
   ]
  },
  {
   "cell_type": "code",
   "execution_count": 4,
   "metadata": {},
   "outputs": [
    {
     "name": "stdout",
     "output_type": "stream",
     "text": [
      "tensor([-0.3809], grad_fn=<AddBackward0>)\n"
     ]
    }
   ],
   "source": [
    "\n",
    "def computeC(bflist, notf):\n",
    "    ''' input the list of testfunction, tell nth cell asn compute about notf_th of test function'''\n",
    "    C = Tensor([0.0])\n",
    "\n",
    "    bf0 = bflist[0]\n",
    "    p0 = Tensor([0.0], requires_grad=True)\n",
    "    u0 = bf0(p0)\n",
    "    gu0 = torch.autograd.grad(u0, p0, retain_graph=True, create_graph=True)[0]\n",
    "    v0 = testfunc(p0, notf, 0)\n",
    "    # print('u0', u0)\n",
    "    C -= gu0 * v0\n",
    "\n",
    "    for n in range(1, N):\n",
    "        bfl = bflist[n - 1]; bfr = bflist[n]\n",
    "        p = Tensor([X[n]], requires_grad=True)\n",
    "\n",
    "        ul = bfl(p); ur = bfr(p)\n",
    "        gul = torch.autograd.grad(ul, p, create_graph=True, retain_graph=True)[0]\n",
    "        gur = torch.autograd.grad(ur, p, create_graph=True, retain_graph=True)[0]\n",
    "\n",
    "        vl = testfunc(p, notf, n - 1); vr = testfunc(p, notf, n)\n",
    "\n",
    "        C += 0.5 * (gul + gur) * (vl - vr)\n",
    "    \n",
    "    bfN = bflist[N-1]\n",
    "    pN = Tensor([1.0], requires_grad=True)\n",
    "    uN = bfN(pN)\n",
    "    guN = torch.autograd.grad(uN, pN, retain_graph=True, create_graph=True)[0]\n",
    "    vN = testfunc(pN, notf, N-1)\n",
    "    C += guN * vN\n",
    "\n",
    "    return C\n",
    "print(computeC(bflist, 0))\n"
   ]
  },
  {
   "cell_type": "markdown",
   "metadata": {},
   "source": [
    "### compute eqloss_i\n",
    "compute eqloss for every single element:\n",
    "\n",
    "$$\\int_{x_n}^{x_{n+1}}u'v'dx-u'(x_{n+1})v(x_{n+1}^-)+u'(x_n)v(x_n^+)=\\int_{x_n}^{x_{n+1}}fvdx$$"
   ]
  },
  {
   "cell_type": "code",
   "execution_count": 5,
   "metadata": {},
   "outputs": [],
   "source": [
    "def computeCell(bflist, n, notf):\n",
    "    ''' nth cell, ith test function'''\n",
    "    hn = X[n+1] - X[n]\n",
    "    Cell = Tensor([0.0])\n",
    "    bf = bflist[n]\n",
    "    s = np.linspace(X[n], X[n+1], Nint)\n",
    "    for k in range(Nint):\n",
    "        p = Tensor([s[k]], requires_grad=True, dtype=torch.float32)\n",
    "        # print(p)\n",
    "        up = bf(p)\n",
    "        gup = torch.autograd.grad(up, p, create_graph=True, retain_graph=True)[0]\n",
    "        v = testfunc(p, notf, n)\n",
    "        gv = grad_testfunc(p, notf, n)\n",
    "\n",
    "        f = source(p)\n",
    "        # print(\"gv\", gup * gv, f * v)\n",
    "        Cell += (gup * gv - f * v) * hn * 1.0 / Nint\n",
    "        \n",
    "    lp = Tensor([X[n]], requires_grad=True, dtype=torch.float32)\n",
    "    rp = Tensor([X[n+1]], requires_grad=True, dtype=torch.float32)\n",
    "    ul = bf(lp); ur = bf(rp)\n",
    "    gul = torch.autograd.grad(ul, lp, create_graph=True, retain_graph=True)[0]\n",
    "    gur = torch.autograd.grad(ur, rp, create_graph=True, retain_graph=True)[0]\n",
    "    vl = testfunc(lp, notf, n)\n",
    "    vr = testfunc(rp, notf, n)\n",
    "    Cell += gul * vl - gur * vr\n",
    "    # print(\"gul, gur\", gul, gur)\n",
    "    return Cell\n",
    "\n",
    "# computeCell(net.models, 0, 0)\n",
    "\n",
    "    "
   ]
  },
  {
   "cell_type": "markdown",
   "metadata": {},
   "source": [
    "For symmetric:\n",
    "\n",
    "$$\\left\\{\\begin{aligned}\n",
    "& D = \\epsilon \\sum_{n=0}^N\\{\\nabla_x v(x_n)\\}[u(x_n)]\\\\\n",
    "& E = -\\epsilon \\nabla_x v(x_0) u(x_0) + \\epsilon \\nabla_x v(x_N)u(x_N)\n",
    "\\end{aligned}\\right.$$"
   ]
  },
  {
   "cell_type": "code",
   "execution_count": 6,
   "metadata": {},
   "outputs": [
    {
     "name": "stdout",
     "output_type": "stream",
     "text": [
      "(tensor([1.5114], grad_fn=<AddBackward0>), tensor([0.], grad_fn=<SubBackward0>))\n"
     ]
    }
   ],
   "source": [
    "\n",
    "def computeDE(bflist, notf):\n",
    "    D = Tensor([0.0])\n",
    "    E = Tensor([0.0])\n",
    "\n",
    "    bf0 = bflist[0]\n",
    "    p0 = Tensor([0.0], requires_grad=True)\n",
    "    u0 = bf0(p0)\n",
    "    gv0 = grad_testfunc(p0, notf, 0)\n",
    "    leftval = 0.0\n",
    "    D -= eps * gv0 * u0\n",
    "    E -= eps * gv0 * leftval\n",
    "\n",
    "    for n in range(1, N):\n",
    "        bfl = bflist[n - 1]; bfr = bflist[n]\n",
    "        p = Tensor([X[n]], requires_grad=True)\n",
    "\n",
    "        ul = bfl(p); ur = bfr(p)\n",
    "        \n",
    "        gvl = grad_testfunc(p, notf, n-1); gvr = grad_testfunc(p, notf, n)\n",
    "\n",
    "        D += 0.5 * eps * (gvl + gvr) * (ul - ur)\n",
    "    \n",
    "    bfN = bflist[N-1]\n",
    "    pN = Tensor([1.0], requires_grad=True)\n",
    "    uN = bfN(pN)\n",
    "    gvN = grad_testfunc(pN, notf, N-1)\n",
    "    rightval = 1.0\n",
    "    D += eps * gvN * uN\n",
    "    E + eps * gvN * rightval\n",
    "\n",
    "    return D, E\n",
    "\n",
    "print(computeDE(bflist, 1))\n"
   ]
  },
  {
   "cell_type": "markdown",
   "metadata": {},
   "source": [
    "Penalty terms:\n",
    "$$\\left\\{\\begin{aligned}\n",
    "& J = \\sigma \\sum_{n=0}^N[v(x_n)][u(x_n)]\\\\\n",
    "& F = \\sigma v(x_0) u(x_0) + \\sigma v(x_N)u(x_N)\n",
    "\\end{aligned}\\right.$$\n",
    "actually its equal to bdloss and conloss"
   ]
  },
  {
   "cell_type": "code",
   "execution_count": 7,
   "metadata": {},
   "outputs": [
    {
     "name": "stdout",
     "output_type": "stream",
     "text": [
      "(tensor([-191.6464], grad_fn=<AddBackward0>), tensor([-40.], grad_fn=<AddBackward0>))\n"
     ]
    }
   ],
   "source": [
    "\n",
    "def computeJF(bflist, notf):\n",
    "    J = Tensor([0.0])\n",
    "    F = Tensor([0.0])\n",
    "    bf0 = bflist[0]\n",
    "    p0 = Tensor([0.0], requires_grad=True)\n",
    "    u0 = bf0(p0)\n",
    "    v0 = testfunc(p0, notf, 0)\n",
    "    leftval = 1.0\n",
    "    J += sigma * v0 * u0\n",
    "    F += sigma * v0 * leftval\n",
    "\n",
    "    for n in range(1, N):\n",
    "        bfl = bflist[n - 1]; bfr = bflist[n]\n",
    "        p = Tensor([X[n]], requires_grad=True)\n",
    "\n",
    "        ul = bfl(p); ur = bfr(p)\n",
    "        \n",
    "        vl = testfunc(p, notf, n-1); vr = testfunc(p, notf, n)\n",
    "\n",
    "        J += sigma * (vl - vr) * (ul - ur)\n",
    "    \n",
    "    bfN = bflist[N-1]\n",
    "    pN = Tensor([1.0], requires_grad=True)\n",
    "    uN = bfN(pN)\n",
    "    gvN = grad_testfunc(pN, notf, N-1)\n",
    "    rightval = 0.0\n",
    "    J += sigma * gvN * uN\n",
    "    F += sigma * gvN * rightval\n",
    "    return J, F\n",
    "print(computeJF(bflist, 1))"
   ]
  },
  {
   "cell_type": "markdown",
   "metadata": {},
   "source": [
    "### compute Particle loss function\n",
    "noted as P:\n",
    "\n",
    "$$\\sum_{k=1}^{N_{int}}w_k\\left(\\nabla_x u_{net}(x_k^{(i)})\\cdot\\nabla_r \\phi_i (x_k^{(i)})\n",
    "\\cdot \\nabla_x r(x_k^{(i)})-f(x_k^{(i)})\\phi_i(x_k^{(i)})\\right)$$\n",
    "\n",
    "We note $N_{int}$ is the number of intergral points. Here we take $N_{int} = 50$"
   ]
  },
  {
   "cell_type": "code",
   "execution_count": 8,
   "metadata": {},
   "outputs": [
    {
     "name": "stdout",
     "output_type": "stream",
     "text": [
      "tensor([0.0262], grad_fn=<AddBackward0>)\n"
     ]
    }
   ],
   "source": [
    "def computeP(bflist):\n",
    "    particleloss = Tensor([0.0])\n",
    "    for n in range(N):\n",
    "        P = Tensor([0.0])\n",
    "        hn = X[n+1] - X[n]\n",
    "        bf = bflist[n]\n",
    "        s = np.linspace(X[n], X[n+1], Nint, endpoint=False)\n",
    "        xm = (X[n+1] + X[n]) / 2.0\n",
    "        for k in range(Nint-2):\n",
    "            p = Tensor([s[k]], requires_grad=True, dtype=torch.float32)\n",
    "            up = bf(p)\n",
    "            gup = torch.autograd.grad(up, p, create_graph=True, retain_graph=True)[0]\n",
    "            r = phi2ref(s[k], n)\n",
    "            # print(k, s[k], 'r', r)\n",
    "            gptf = grad_particletest(r)\n",
    "            if p - xm < 0:\n",
    "                gr = -2.0 / hn\n",
    "            else:\n",
    "                gr = 2.0 / hn\n",
    "            f = source(p)\n",
    "            ptf = particletest(r)\n",
    "            P += 1.0 / Nint * (gup * gptf * gr - f * ptf) * hn\n",
    "        particleloss += P**2\n",
    "    return particleloss\n",
    "\n",
    "print(computeP(bflist))"
   ]
  },
  {
   "cell_type": "markdown",
   "metadata": {},
   "source": [
    "### compute the loss on the boundary \n",
    "$$(u(0)-1)^2 + (u(1) - 0)^2$$"
   ]
  },
  {
   "cell_type": "code",
   "execution_count": 9,
   "metadata": {},
   "outputs": [
    {
     "name": "stdout",
     "output_type": "stream",
     "text": [
      "tensor([1.0888], grad_fn=<AddBackward0>)\n"
     ]
    }
   ],
   "source": [
    "def computebd(bflist):\n",
    "    bf1 = bflist[0]; bf2 = bflist[N-1]\n",
    "    bdloss = (bf1(Tensor([X[0]], requires_grad=True))- Tensor([1.0]))**2\n",
    "    bdloss += (bf2(Tensor([X[N]], requires_grad=True)))**2\n",
    "    return bdloss\n",
    "\n",
    "print(computebd(bflist))"
   ]
  },
  {
   "cell_type": "markdown",
   "metadata": {},
   "source": [
    "### compute the Jump on the intersection of two intervals\n",
    "\n",
    "$$\\sum_{n=1}^{N-1}[u]^2$$"
   ]
  },
  {
   "cell_type": "code",
   "execution_count": 10,
   "metadata": {},
   "outputs": [],
   "source": [
    "def computeCon(bflist):\n",
    "    con = Tensor([0.0])\n",
    "\n",
    "    for n in range(1, N):\n",
    "        bfl = bflist[n - 1]; bfr = bflist[n]\n",
    "        p = Tensor([X[n]], requires_grad=True)\n",
    "        ul = bfl(p); ur = bfr(p)\n",
    "\n",
    "        con += (ul - ur)**2\n",
    "        # print((ul - ur)**2)\n",
    "    return con"
   ]
  },
  {
   "cell_type": "markdown",
   "metadata": {},
   "source": [
    "### compute the Jump of gradience on the intersection of two intervals\n",
    "\n",
    "$$\\sum_{n=1}^{N-1}[\\nabla u]^2$$"
   ]
  },
  {
   "cell_type": "code",
   "execution_count": 11,
   "metadata": {},
   "outputs": [
    {
     "name": "stdout",
     "output_type": "stream",
     "text": [
      "tensor([1.2627], grad_fn=<AddBackward0>)\n"
     ]
    }
   ],
   "source": [
    "def computeGradCon(bflist):\n",
    "    gcon = Tensor([0.0])\n",
    "\n",
    "    for n in range(1, N):\n",
    "        bfl = bflist[n - 1]; bfr = bflist[n]\n",
    "        p = Tensor([X[n]], requires_grad=True)\n",
    "        ul = bfl(p); ur = bfr(p)\n",
    "        gul = torch.autograd.grad(ul, p, retain_graph=True, create_graph=True)[0]\n",
    "        gur = torch.autograd.grad(ur, p, retain_graph=True, create_graph=True)[0]\n",
    "        gcon += (gul - gur)**2\n",
    "    return gcon\n",
    "\n",
    "print(computeGradCon(bflist))"
   ]
  },
  {
   "cell_type": "code",
   "execution_count": 12,
   "metadata": {},
   "outputs": [],
   "source": [
    "class DGNet1:\n",
    "    def __init__(self) -> None:\n",
    "        bflist = []\n",
    "        for _ in range(N):\n",
    "            bf = u()\n",
    "            bflist.append(bf)\n",
    "        self.models = bflist\n",
    "        self.parameters = aggpara(self.models)\n",
    "        self.optimizer = torch.optim.Adam(self.parameters, lr=1.0)\n",
    "        self.maxIter = 1000\n",
    "        self.iter = 1\n",
    "    \n",
    "    def loss(self):\n",
    "        # tfloss = torch.zeros((deg, 1))\n",
    "        # for i in range(deg):\n",
    "        #     tfloss[i] = Tensor([0.0])\n",
    "        #     for k in range(N):\n",
    "        #         A, B = computeAB(self.models, k, i)\n",
    "        #         tfloss[i] += A - B\n",
    "        #     C = computeC(self.models, i)\n",
    "        #     D, E = computeDE(self.models, i)\n",
    "        #     J, F = computeJF(self.models, i)\n",
    "        #     tfloss[i] -= C\n",
    "        #     tfloss[i] += D - E\n",
    "        #     tfloss[i] += J - F\n",
    "        # loss = torch.sum(tfloss ** 2)\n",
    "        \n",
    "        ########################### particle loss ###############################\n",
    "\n",
    "\n",
    "        particleloss = 2.0 * computeP(self.models) / N\n",
    "        conloss = computeCon(self.models) \n",
    "        bdloss = computebd(self.models) / 2\n",
    "        gconloss = computeGradCon(self.models) \n",
    "\n",
    "        loss = particleloss + bdloss + conloss + gconloss\n",
    "        \n",
    "        self.iter += 1\n",
    "        if self.iter % 100 == 0:\n",
    "            print(f\"The {self.iter}th training, loss is {loss.item()}: paricleloss is {particleloss.item()}, conloss is {conloss.item()}, bdloss is {bdloss.item()}, gconloss is {gconloss.item()}\")\n",
    "        return loss\n",
    "    \n",
    "    def train(self, niter):\n",
    "        trainplug(self.models)\n",
    "        for _ in range(niter):\n",
    "            self.optimizer.zero_grad()\n",
    "            loss = self.loss()\n",
    "            if loss < 1e-4:\n",
    "                print(f\"The {self.iter}th training, loss is {loss.item()}\")\n",
    "                break\n",
    "            loss.backward()\n",
    "            self.optimizer.step()\n",
    "\n",
    "\n",
    "class DGNet:\n",
    "    def __init__(self) -> None:\n",
    "        bflist = []\n",
    "        for _ in range(N):\n",
    "            bf = u()\n",
    "            bflist.append(bf)\n",
    "        self.models = bflist\n",
    "        self.parameters = aggpara(self.models)\n",
    "        self.optimizer = torch.optim.LBFGS(self.parameters, lr=1.0, max_iter=50000, max_eval=50000, history_size=50, \n",
    "                                           tolerance_grad=1e-7, tolerance_change=1.0 * np.finfo(float).eps, line_search_fn='strong_wolfe')\n",
    "        self.maxIter = 1000\n",
    "        self.iter = 1\n",
    "    \n",
    "    def loss1(self):\n",
    "        self.optimizer.zero_grad()\n",
    "        ########################### dgloss ####################################\n",
    "        tfloss = torch.zeros((deg + 1, 1))\n",
    "        for i in range(deg + 1):\n",
    "            for k in range(N):\n",
    "                A = computeCell(self.models, k, i)\n",
    "                tfloss[i] += A ** 2\n",
    "        dgloss = torch.sum(tfloss).unsqueeze(0)\n",
    "        loss = dgloss\n",
    "\n",
    "        conloss = computeCon(self.models) \n",
    "        bdloss = computebd(self.models) / 2\n",
    "        gconloss = computeGradCon(self.models) \n",
    "\n",
    "        loss += bdloss + conloss + gconloss\n",
    "        loss.backward()\n",
    "        self.iter += 1\n",
    "        if self.iter % 10 == 0:\n",
    "            print(f\"The {self.iter}th training, loss is {loss.item()}: dgloss is {dgloss.item()}, conloss is {conloss.item()}, bdloss is {bdloss.item()}, gconloss is {gconloss.item()}\")\n",
    "        \n",
    "        return loss\n",
    "\n",
    "    def loss2(self):\n",
    "        self.optimizer.zero_grad()\n",
    "        tfloss = torch.zeros((deg + 1, 1))\n",
    "        for i in range(deg + 1):\n",
    "            for k in range(N):\n",
    "                A = computeCell(self.models, k, i)\n",
    "                tfloss[i] += A\n",
    "            D, E = computeDE(self.models, i)\n",
    "            tfloss[i] += D - E\n",
    "            # print(i, tfloss[i])\n",
    "        dgloss = torch.sum(tfloss ** 2).unsqueeze(0)\n",
    "        loss = dgloss\n",
    "\n",
    "        conloss = computeCon(self.models) \n",
    "        bdloss = computebd(self.models) / 2\n",
    "        gconloss = computeGradCon(self.models) \n",
    "\n",
    "        # loss =  particleloss + bdloss + conloss + gconloss\n",
    "        loss += bdloss + conloss + gconloss\n",
    "        loss.backward()\n",
    "        self.iter += 1\n",
    "        # if self.iter % 10 == 0:\n",
    "        #     print(f\"The {self.iter}th training, loss is {loss.item()}: paricleloss is {particleloss.item()}, conloss is {conloss.item()}, bdloss is {bdloss.item()}, gconloss is {gconloss.item()}\")\n",
    "        if self.iter % 10 == 0:\n",
    "            print(f\"The {self.iter}th training, loss is {loss.item()}: dgloss is {dgloss.item()}, conloss is {conloss.item()}, bdloss is {bdloss.item()}, gconloss is {gconloss.item()}\")\n",
    "        \n",
    "        return loss\n",
    "\n",
    "    def loss(self):\n",
    "        self.optimizer.zero_grad()\n",
    "\n",
    "        ########################### particle loss ###############################\n",
    "        particleloss = 2.0 * computeP(self.models) / N\n",
    "\n",
    "        ########################### constraint loss #############################\n",
    "        conloss = computeCon(self.models) \n",
    "        bdloss = computebd(self.models) / 2\n",
    "        gconloss = computeGradCon(self.models) \n",
    "\n",
    "        loss =  particleloss + bdloss + conloss + gconloss\n",
    "        loss.backward()\n",
    "        self.iter += 1\n",
    "        if self.iter % 10 == 0:\n",
    "            print(f\"The {self.iter}th training, loss is {loss.item()}: paricleloss is {particleloss.item()}, conloss is {conloss.item()}, bdloss is {bdloss.item()}, gconloss is {gconloss.item()}\")\n",
    "        \n",
    "        return loss\n",
    "    \n",
    "    def train(self):\n",
    "        trainplug(self.models)\n",
    "        self.optimizer.step(self.loss2)\n",
    "\n",
    "\n",
    "def aggpara(bflist):\n",
    "    parameters = list()\n",
    "    for i in range(N):\n",
    "        parameters += list(bflist[i].parameters())\n",
    "    return parameters\n",
    "def trainplug(bflist):\n",
    "    for i in range(N):\n",
    "        bflist[i].train()\n",
    "def evalplug(bflist):\n",
    "    for i in range(N):\n",
    "        bflist[i].eval()"
   ]
  },
  {
   "cell_type": "code",
   "execution_count": 13,
   "metadata": {},
   "outputs": [
    {
     "name": "stdout",
     "output_type": "stream",
     "text": [
      "The 10th training, loss is 0.8788052797317505: dgloss is 0.8788052797317505, conloss is 0.13360215723514557, bdloss is 0.40805700421333313, gconloss is 0.11535589396953583\n",
      "The 20th training, loss is 0.4832393527030945: dgloss is 0.4832393527030945, conloss is 0.06589092314243317, bdloss is 0.29965412616729736, gconloss is 0.026369154453277588\n",
      "The 30th training, loss is 0.3713478147983551: dgloss is 0.3713478147983551, conloss is 0.0653337836265564, bdloss is 0.26622965931892395, gconloss is 0.023611657321453094\n",
      "The 40th training, loss is 0.3356625437736511: dgloss is 0.3356625437736511, conloss is 0.04792729392647743, bdloss is 0.281269371509552, gconloss is 0.0064345127902925014\n",
      "The 50th training, loss is 0.3313148617744446: dgloss is 0.3313148617744446, conloss is 0.04870624467730522, bdloss is 0.27905353903770447, gconloss is 0.00344366068020463\n",
      "The 60th training, loss is 0.3282380998134613: dgloss is 0.3282380998134613, conloss is 0.051771461963653564, bdloss is 0.27561235427856445, gconloss is 0.0007438445463776588\n",
      "The 70th training, loss is 0.32724639773368835: dgloss is 0.32724639773368835, conloss is 0.05458907037973404, bdloss is 0.2725365459918976, gconloss is 4.199432078166865e-05\n",
      "The 80th training, loss is 0.327133446931839: dgloss is 0.327133446931839, conloss is 0.05435076355934143, bdloss is 0.2726978063583374, gconloss is 1.3876540833734907e-05\n",
      "The 90th training, loss is 0.3270435035228729: dgloss is 0.3270435035228729, conloss is 0.053700514137744904, bdloss is 0.27326714992523193, gconloss is 1.2890943253296427e-05\n",
      "The 100th training, loss is 0.32701992988586426: dgloss is 0.32701992988586426, conloss is 0.053577154874801636, bdloss is 0.27338579297065735, gconloss is 3.964768957587239e-09\n"
     ]
    }
   ],
   "source": [
    "net = DGNet()\n",
    "net.train()"
   ]
  },
  {
   "cell_type": "code",
   "execution_count": 19,
   "metadata": {},
   "outputs": [
    {
     "name": "stdout",
     "output_type": "stream",
     "text": [
      "tensor([-0.0037], grad_fn=<AddBackward0>)\n",
      "tensor([0.0227], grad_fn=<AddBackward0>)\n"
     ]
    }
   ],
   "source": [
    "print(computeCell(net.models, 1, 2))\n",
    "\n",
    "jj = Tensor([0.0])\n",
    "for i in range(N):\n",
    "    a = computeCell(net.models, i, 2)\n",
    "    jj += a\n",
    "print(jj)"
   ]
  },
  {
   "cell_type": "code",
   "execution_count": 14,
   "metadata": {},
   "outputs": [
    {
     "data": {
      "image/png": "[encoded data removed]",
      "text/plain": [
       "<Figure size 640x480 with 1 Axes>"
      ]
     },
     "metadata": {},
     "output_type": "display_data"
    }
   ],
   "source": [
    "import matplotlib.pyplot as plt  \n",
    "import numpy as np\n",
    "\n",
    "bfl = net.models\n",
    "\n",
    "def sol(n):\n",
    "    x = torch.linspace(-1, 1, 100)[1:-1]\n",
    "    xreal = torch.zeros_like(x)\n",
    "    y = torch.zeros_like(x)\n",
    "    for i in range(x.shape[0]):\n",
    "        xreal[i] = ref2phi(x[i], n)\n",
    "        y[i] = bfl[n](Tensor([xreal[i]]))\n",
    "    return xreal, y\n",
    "\n",
    "def tforigin(notf, n):\n",
    "    x = torch.linspace(-1, 1, 100)[1:-1]\n",
    "    xreal = torch.zeros_like(x)\n",
    "    y = torch.zeros_like(x)\n",
    "    for i in range(x.shape[0]):\n",
    "        xreal[i] = ref2phi(x[i], n)\n",
    "        y[i] = testfunc(Tensor([xreal[i]]), notf , n)\n",
    "    return xreal, y\n",
    "\n",
    "################################ plot the solution ####################################\n",
    "XX = torch.tensor([])  \n",
    "YY = torch.tensor([]) \n",
    "for i in range(N):\n",
    "    xreal, y = sol(i)\n",
    "    XX = torch.cat((XX, xreal), dim=0)\n",
    "    YY = torch.cat((YY, y), dim=0)\n",
    "XX = XX.detach().numpy()\n",
    "YY = YY.detach().numpy()\n",
    "plt.plot(XX, YY, label='net')\n",
    "plt.xlabel('x') \n",
    "plt.ylabel('y') \n",
    "\n",
    "################################# plot test function ###################################\n",
    "# for notf in range(3):\n",
    "#     TF = torch.tensor([]) \n",
    "#     for i in range(N):\n",
    "#         _, y = tforigin(notf, i)\n",
    "#         TF = torch.cat((TF, y), dim=0)\n",
    "#     TF = TF.detach().numpy()\n",
    "#     plt.plot(XX, TF, label=f'tf{notf}')\n",
    "    \n",
    "\n",
    "################################# plot exact solution ###################################\n",
    "x_values = np.linspace(0, 1, 1000)  # 生成 x 值  \n",
    "y_values = (1 - x_values) * np.exp(-x_values**2)  # 计算对应的 y 值  \n",
    "plt.plot(x_values, y_values, label='(1-x)e^x)')  \n",
    "\n",
    "\n",
    "plt.xlabel('x')  \n",
    "plt.ylabel('y')  \n",
    "plt.legend() \n",
    "plt.show() "
   ]
  }
 ],
 "metadata": {
  "kernelspec": {
   "display_name": "base",
   "language": "python",
   "name": "python3"
  },
  "language_info": {
   "codemirror_mode": {
    "name": "ipython",
    "version": 3
   },
   "file_extension": ".py",
   "mimetype": "text/x-python",
   "name": "python",
   "nbconvert_exporter": "python",
   "pygments_lexer": "ipython3",
   "version": "3.11.5"
  }
 },
 "nbformat": 4,
 "nbformat_minor": 2
}
